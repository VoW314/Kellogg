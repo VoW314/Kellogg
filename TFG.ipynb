{
  "nbformat": 4,
  "nbformat_minor": 0,
  "metadata": {
    "colab": {
      "name": "TFG.ipynb",
      "provenance": [],
      "collapsed_sections": [],
      "authorship_tag": "ABX9TyOdvwOpHOH8ObOIh+JIuu3S",
      "include_colab_link": true
    },
    "kernelspec": {
      "name": "python3",
      "display_name": "Python 3"
    },
    "language_info": {
      "name": "python"
    }
  },
  "cells": [
    {
      "cell_type": "markdown",
      "metadata": {
        "id": "view-in-github",
        "colab_type": "text"
      },
      "source": [
        "<a href=\"https://colab.research.google.com/github/VoW314/Kellogg/blob/master/TFG.ipynb\" target=\"_parent\"><img src=\"https://colab.research.google.com/assets/colab-badge.svg\" alt=\"Open In Colab\"/></a>"
      ]
    },
    {
      "cell_type": "markdown",
      "source": [
        "# This is just to create the table\n",
        "Don't need to open this but you can if you want :D"
      ],
      "metadata": {
        "id": "GRfZUXprNNhU"
      }
    },
    {
      "cell_type": "code",
      "metadata": {
        "id": "jk6ooNw7-3Jv",
        "colab": {
          "base_uri": "https://localhost:8080/",
          "height": 424
        },
        "outputId": "cdec69d6-3c94-4e80-c31e-c819548298a5"
      },
      "source": [
        "#iMPORTS\n",
        "import urllib\n",
        "import pandas as pd\n",
        "import numpy as np\n",
        "from tabulate import tabulate\n",
        "import plotly.express as px\n",
        "\n",
        "#CODE ACTUAL\n",
        "#First created on September 2022\n",
        "#Remember to use to copy and put it all into 1 columns\n",
        "#https://docs.google.com/spreadsheets/d/1q8OgHz_8A8U86adBKNHm_I7HLcI8k6rmJKDWbOQ5-ds/edit#gid=0\n",
        "\n",
        "sheetID = '1q8OgHz_8A8U86adBKNHm_I7HLcI8k6rmJKDWbOQ5-ds' #id for the google sheet\n",
        "members = pd.read_csv(f\"https://docs.google.com/spreadsheets/d/{sheetID}/export?format=csv\")\n",
        "df = pd.DataFrame(members)\n",
        "df.dropna()"
      ],
      "execution_count": null,
      "outputs": [
        {
          "output_type": "execute_result",
          "data": {
            "text/html": [
              "\n",
              "  <div id=\"df-5a430e22-7af9-4eeb-93fa-3ac999173a9b\">\n",
              "    <div class=\"colab-df-container\">\n",
              "      <div>\n",
              "<style scoped>\n",
              "    .dataframe tbody tr th:only-of-type {\n",
              "        vertical-align: middle;\n",
              "    }\n",
              "\n",
              "    .dataframe tbody tr th {\n",
              "        vertical-align: top;\n",
              "    }\n",
              "\n",
              "    .dataframe thead th {\n",
              "        text-align: right;\n",
              "    }\n",
              "</style>\n",
              "<table border=\"1\" class=\"dataframe\">\n",
              "  <thead>\n",
              "    <tr style=\"text-align: right;\">\n",
              "      <th></th>\n",
              "      <th>Name</th>\n",
              "      <th>ID</th>\n",
              "      <th>Alliance</th>\n",
              "    </tr>\n",
              "  </thead>\n",
              "  <tbody>\n",
              "    <tr>\n",
              "      <th>0</th>\n",
              "      <td>Mistering / James</td>\n",
              "      <td>1702088</td>\n",
              "      <td>TFGs</td>\n",
              "    </tr>\n",
              "    <tr>\n",
              "      <th>1</th>\n",
              "      <td>Hi0550</td>\n",
              "      <td>1938965</td>\n",
              "      <td>TFGs</td>\n",
              "    </tr>\n",
              "    <tr>\n",
              "      <th>2</th>\n",
              "      <td>snk-S'cal</td>\n",
              "      <td>1750516</td>\n",
              "      <td>TFGs</td>\n",
              "    </tr>\n",
              "    <tr>\n",
              "      <th>3</th>\n",
              "      <td>antavane_SNK</td>\n",
              "      <td>1694249</td>\n",
              "      <td>TFGs</td>\n",
              "    </tr>\n",
              "    <tr>\n",
              "      <th>4</th>\n",
              "      <td>DEATHRIOT</td>\n",
              "      <td>1281808</td>\n",
              "      <td>TFGs</td>\n",
              "    </tr>\n",
              "    <tr>\n",
              "      <th>...</th>\n",
              "      <td>...</td>\n",
              "      <td>...</td>\n",
              "      <td>...</td>\n",
              "    </tr>\n",
              "    <tr>\n",
              "      <th>610</th>\n",
              "      <td>SPB</td>\n",
              "      <td>1746954</td>\n",
              "      <td>PhnX</td>\n",
              "    </tr>\n",
              "    <tr>\n",
              "      <th>611</th>\n",
              "      <td>153guy</td>\n",
              "      <td>1687011</td>\n",
              "      <td>PhnX</td>\n",
              "    </tr>\n",
              "    <tr>\n",
              "      <th>612</th>\n",
              "      <td>Capt_Curt</td>\n",
              "      <td>1976980</td>\n",
              "      <td>PhnX</td>\n",
              "    </tr>\n",
              "    <tr>\n",
              "      <th>613</th>\n",
              "      <td>xChefCrazX[StWr\b]</td>\n",
              "      <td>1959916</td>\n",
              "      <td>PhnX</td>\n",
              "    </tr>\n",
              "    <tr>\n",
              "      <th>614</th>\n",
              "      <td>Combinator</td>\n",
              "      <td>1786663</td>\n",
              "      <td>PhnX</td>\n",
              "    </tr>\n",
              "  </tbody>\n",
              "</table>\n",
              "<p>593 rows × 3 columns</p>\n",
              "</div>\n",
              "      <button class=\"colab-df-convert\" onclick=\"convertToInteractive('df-5a430e22-7af9-4eeb-93fa-3ac999173a9b')\"\n",
              "              title=\"Convert this dataframe to an interactive table.\"\n",
              "              style=\"display:none;\">\n",
              "        \n",
              "  <svg xmlns=\"http://www.w3.org/2000/svg\" height=\"24px\"viewBox=\"0 0 24 24\"\n",
              "       width=\"24px\">\n",
              "    <path d=\"M0 0h24v24H0V0z\" fill=\"none\"/>\n",
              "    <path d=\"M18.56 5.44l.94 2.06.94-2.06 2.06-.94-2.06-.94-.94-2.06-.94 2.06-2.06.94zm-11 1L8.5 8.5l.94-2.06 2.06-.94-2.06-.94L8.5 2.5l-.94 2.06-2.06.94zm10 10l.94 2.06.94-2.06 2.06-.94-2.06-.94-.94-2.06-.94 2.06-2.06.94z\"/><path d=\"M17.41 7.96l-1.37-1.37c-.4-.4-.92-.59-1.43-.59-.52 0-1.04.2-1.43.59L10.3 9.45l-7.72 7.72c-.78.78-.78 2.05 0 2.83L4 21.41c.39.39.9.59 1.41.59.51 0 1.02-.2 1.41-.59l7.78-7.78 2.81-2.81c.8-.78.8-2.07 0-2.86zM5.41 20L4 18.59l7.72-7.72 1.47 1.35L5.41 20z\"/>\n",
              "  </svg>\n",
              "      </button>\n",
              "      \n",
              "  <style>\n",
              "    .colab-df-container {\n",
              "      display:flex;\n",
              "      flex-wrap:wrap;\n",
              "      gap: 12px;\n",
              "    }\n",
              "\n",
              "    .colab-df-convert {\n",
              "      background-color: #E8F0FE;\n",
              "      border: none;\n",
              "      border-radius: 50%;\n",
              "      cursor: pointer;\n",
              "      display: none;\n",
              "      fill: #1967D2;\n",
              "      height: 32px;\n",
              "      padding: 0 0 0 0;\n",
              "      width: 32px;\n",
              "    }\n",
              "\n",
              "    .colab-df-convert:hover {\n",
              "      background-color: #E2EBFA;\n",
              "      box-shadow: 0px 1px 2px rgba(60, 64, 67, 0.3), 0px 1px 3px 1px rgba(60, 64, 67, 0.15);\n",
              "      fill: #174EA6;\n",
              "    }\n",
              "\n",
              "    [theme=dark] .colab-df-convert {\n",
              "      background-color: #3B4455;\n",
              "      fill: #D2E3FC;\n",
              "    }\n",
              "\n",
              "    [theme=dark] .colab-df-convert:hover {\n",
              "      background-color: #434B5C;\n",
              "      box-shadow: 0px 1px 3px 1px rgba(0, 0, 0, 0.15);\n",
              "      filter: drop-shadow(0px 1px 2px rgba(0, 0, 0, 0.3));\n",
              "      fill: #FFFFFF;\n",
              "    }\n",
              "  </style>\n",
              "\n",
              "      <script>\n",
              "        const buttonEl =\n",
              "          document.querySelector('#df-5a430e22-7af9-4eeb-93fa-3ac999173a9b button.colab-df-convert');\n",
              "        buttonEl.style.display =\n",
              "          google.colab.kernel.accessAllowed ? 'block' : 'none';\n",
              "\n",
              "        async function convertToInteractive(key) {\n",
              "          const element = document.querySelector('#df-5a430e22-7af9-4eeb-93fa-3ac999173a9b');\n",
              "          const dataTable =\n",
              "            await google.colab.kernel.invokeFunction('convertToInteractive',\n",
              "                                                     [key], {});\n",
              "          if (!dataTable) return;\n",
              "\n",
              "          const docLinkHtml = 'Like what you see? Visit the ' +\n",
              "            '<a target=\"_blank\" href=https://colab.research.google.com/notebooks/data_table.ipynb>data table notebook</a>'\n",
              "            + ' to learn more about interactive tables.';\n",
              "          element.innerHTML = '';\n",
              "          dataTable['output_type'] = 'display_data';\n",
              "          await google.colab.output.renderOutput(dataTable, element);\n",
              "          const docLink = document.createElement('div');\n",
              "          docLink.innerHTML = docLinkHtml;\n",
              "          element.appendChild(docLink);\n",
              "        }\n",
              "      </script>\n",
              "    </div>\n",
              "  </div>\n",
              "  "
            ],
            "text/plain": [
              "                  Name       ID Alliance\n",
              "0    Mistering / James  1702088     TFGs\n",
              "1               Hi0550  1938965     TFGs\n",
              "2            snk-S'cal  1750516     TFGs\n",
              "3         antavane_SNK  1694249     TFGs\n",
              "4            DEATHRIOT  1281808     TFGs\n",
              "..                 ...      ...      ...\n",
              "610                SPB  1746954     PhnX\n",
              "611             153guy  1687011     PhnX\n",
              "612          Capt_Curt  1976980     PhnX\n",
              "613  xChefCrazX[StWr\b]  1959916     PhnX\n",
              "614         Combinator  1786663     PhnX\n",
              "\n",
              "[593 rows x 3 columns]"
            ]
          },
          "metadata": {},
          "execution_count": 1
        }
      ]
    },
    {
      "cell_type": "code",
      "source": [
        "#from google.colab import drive\n",
        "#drive.mount('/content/drive')"
      ],
      "metadata": {
        "id": "A3oyN4Jux0-j",
        "colab": {
          "base_uri": "https://localhost:8080/"
        },
        "outputId": "3a49b722-f97a-45b7-d58b-13f43cef8eda"
      },
      "execution_count": null,
      "outputs": [
        {
          "output_type": "stream",
          "name": "stdout",
          "text": [
            "Mounted at /content/drive\n"
          ]
        }
      ]
    },
    {
      "cell_type": "markdown",
      "source": [
        "# Searching \n",
        "\n",
        "Just click the play button and input the ID# that you need to get. There is a chance you may get multiple as some people are accidentally listed twice or changed their name during the process of creating the list. \n",
        "\n",
        "If you get an error just run it again :D. You are fine. In case you accidentally type in the code editor I can easily fix it."
      ],
      "metadata": {
        "id": "pzWgJyFWNP6-"
      }
    },
    {
      "cell_type": "code",
      "metadata": {
        "id": "NvDSen2JFrnX",
        "colab": {
          "base_uri": "https://localhost:8080/"
        },
        "outputId": "4f471a3c-01a0-4e93-e76d-7476169196c2"
      },
      "source": [
        "x = input(str(\"ID #\"))\n",
        "\n",
        "def search(ID):\n",
        "  print(\"Searching for: holder of ID# {}\".format(x))\n",
        "  person = df.loc[df['ID'] == int(x)]\n",
        "  print(person)\n",
        "\n",
        "\n",
        "\n",
        "\n",
        "search(x)"
      ],
      "execution_count": null,
      "outputs": [
        {
          "output_type": "stream",
          "name": "stdout",
          "text": [
            "ID #1976980\n",
            "Searching for: holder of ID# 1976980\n",
            "          Name       ID Alliance\n",
            "515  capt_curt  1976980     PhnX\n",
            "612  Capt_Curt  1976980     PhnX\n"
          ]
        }
      ]
    },
    {
      "cell_type": "markdown",
      "source": [
        "# A Graph on ID number vs Alliance \n",
        "\n",
        "Generally speaking, what this tells us is the range of ID#s that are within S3. \n",
        "\n",
        "When you get into the areas where it is orange or yellow those ID holders are likely alts. \n",
        "\n",
        "![Alt Text](https://cdn.discordapp.com/attachments/816402491590836235/938509190446592061/unknown.png)\n",
        "\n",
        "This is mainly in the case where someone quits and comes back later. A lot of people think they are actually server spies which is just not the case. Their ID# does not support those claims. \n",
        "\n",
        "\n",
        "## General Rule for S3 IDs:\n",
        "1) Is 7 digits long\n",
        "2) Starts with a 1 - 5\n",
        "\n",
        "If it is 8 digits it is new. If it starts with a 6 but is 7 digits then it is likely an alt. There are some expetions of just players who joined late. Or came to S3 thinking that since it was older it must be better to grow in. \n"
      ],
      "metadata": {
        "id": "EtNHpp4eOm_A"
      }
    },
    {
      "cell_type": "code",
      "metadata": {
        "id": "LR6rlCwMHvFb",
        "colab": {
          "base_uri": "https://localhost:8080/",
          "height": 542
        },
        "outputId": "2baf5ac5-3f1c-4ea6-a39f-41d69537b3b8"
      },
      "source": [
        "fig = px.scatter(df, x=\"Alliance\", y=\"ID\", color=\"ID\",hover_data=['Name', 'ID'])\n",
        "fig.show()"
      ],
      "execution_count": null,
      "outputs": [
        {
          "output_type": "display_data",
          "data": {
            "text/html": [
              "<html>\n",
              "<head><meta charset=\"utf-8\" /></head>\n",
              "<body>\n",
              "    <div>\n",
              "            <script src=\"https://cdnjs.cloudflare.com/ajax/libs/mathjax/2.7.5/MathJax.js?config=TeX-AMS-MML_SVG\"></script><script type=\"text/javascript\">if (window.MathJax) {MathJax.Hub.Config({SVG: {font: \"STIX-Web\"}});}</script>\n",
              "                <script type=\"text/javascript\">window.PlotlyConfig = {MathJaxConfig: 'local'};</script>\n",
              "        <script src=\"https://cdn.plot.ly/plotly-latest.min.js\"></script>    \n",
              "            <div id=\"af7d5f2d-09e9-4caf-9c5d-51750931a650\" class=\"plotly-graph-div\" style=\"height:525px; width:100%;\"></div>\n",
              "            <script type=\"text/javascript\">\n",
              "                \n",
              "                    window.PLOTLYENV=window.PLOTLYENV || {};\n",
              "                    \n",
              "                if (document.getElementById(\"af7d5f2d-09e9-4caf-9c5d-51750931a650\")) {\n",
              "                    Plotly.newPlot(\n",
              "                        'af7d5f2d-09e9-4caf-9c5d-51750931a650',\n",
              "                        [{\"customdata\": [[\"Mistering / James\", 1702088], [\"Hi0550\", 1938965], [\"snk-S'cal\", 1750516], [\"antavane_SNK\", 1694249], [\"DEATHRIOT\", 1281808], [\"shel\", 1991832], [\"SurgeryGun\", 4602158], [\"AnaH\", 1957256], [\"hung123456789\", 1777774], [\"AP420KILLA\", 1581915], [\"TONTON\", 1896227], [\"Nik7\", 2025124], [\"KpakeH\", 1894773], [\"Uk.Rop\", 1954559], [\"4ut\", 1831105], [\"Alesksynf\", 1955178], [\"Arsenic99\", 168776], [\"Tuurdferrg\", 1963459], [\"BurakTipi\", 1995840], [\"Graf.Orlov\", 2003680], [\"Capt.JeckSparrow / Jeck from TFO\", 159878], [\"Rohan\", 1776338], [\"Abobhorn\", 1926920], [\"HuDdaM\", 1904795], [\"Wolverine935\", 1963030], [\"MotherLanguage\", 1859179], [\"Sylvestre35\", 1646070], [\"#HOUSEOFPAIN#\", 2027697], [\"MeCTb\", 1599186], [\"telo-let\", 1713781], [\"Ujpset\", 1763384], [\"Highlander\", 1646046], [\"Major\\\"Chris\\\"\", 1961896], [\"KapitanEcli\", 1620984], [\"Browar\", 1981103], [\"murad19\", 1988927], [\"lucas1996\", 1829778], [\"godjack26\", 2045827], [\"MAD!AHMAD\", 1912063], [\"Nafk2\", 1940565], [\"Minion's\", 3565895], [\"WALEL\", 1670474], [\"Cyborg_1992\", 1579365], [\"van4ek\", 1977133], [\"Al-Capone_SNK\", 1887879], [\"OFLU6TS1\", 2752764], [\"{!}\", 1671698], [\"Vadimjik\", 1932308], [\"Vero\", 1979272], [\"AlexKouch\", 1980108], [\"sapog\", 2775228], [\"GARUDA\", 1970131], [\"Dominator0311\", 1643928], [\"ShowMeDaWay\", 1673198], [\"gt15_SNK\", 1696284], [\"Iwatani_Naofumi\", 3893375], [\"Sr.Slaughter\", 1573517], [\"Mahmud1983\", 1802479], [\"sghosts\", 1851638], [\"(SNK)Freak_1983\", 1740938], [\"MRFP\", 1933593], [\"AlexLau\", 2050190], [\"Eguard_TR\", 1568182], [\"IR,OKTA\", 1965692], [\"Salkhila_HI\", 1714139], [\"milad51\", 386178], [\"Kaper85\", 1987613], [\"VerfarID\", 1978752], [\"thony62\", 1907994], [\"RevengeYTK-TURK\", 1728376], [\"ARROW-31-SNK\", 1692319], [\"BELZCOM_1603\", 3845172], [\"Vietnamno1\", 1634804], [\"PeakyBlinders777\", 1897395], [\"Arthena\", 1893874], [\"[RussianName]\", 1718802], [\"CaHR55\", 1994351], [\"permyk59ru\", 1933779], [\"cody900\", 1733812], [\"SupervisorVN\", 4558259], [\"Sirvanson\", 2012074], [\"PunkyTheCat\", 1941265], [\"Steve28\", 1943405], [\"commander\", 1743782], [\"SailLamJoy07\", 1779718], [\"Marttins\", 1952306], [\"amjim\", 1981923], [\"STARSKILLER\", 1964000], [\"KingChunk\", 1552558], [\"BeserkKill\", 1957124], [null, 1850523], [\"A-10KK\", 5158389], [\"[Asian Chars.}5418\", 1609013], [\"MEMO95FOREVER\", 4976562], [null, 3346142], [\"Berkqy\", 1940826], [\"Mr.BF\", 1971147], [null, 1975699], [\"_SNK_\", 3723912], [\"milad5151\", 1622122], [\"Troly\", 1816702], [\"Bop6ehRUSO\", 1992298], [\"MadaraGT\", 1976120], [\"Gabriel82\", 1858978], [\"Cinas\", 1692318], [\"ZhukovKV1\", 1758166], [\"Mitewithryan\", 1696385], [\"macture\", 1998677], [\"[Kaz]\", 1729706], [\"bilaster\", 1577133], [\"suuuurinox\", 1988955], [\"Leo133\", 1728339], [\"Sean19\", 1843067], [\"Olegtankist\", 1978553], [\"Krebo_13\", 4926996], [\"Bitang123\", 1990086], [\"Ptica\", 1811650], [\"Fortunate_SNK\", 1699005], [\"UDINLABU\", 8025598], [\"P2021\", 8577812], [\"Wy6NH\", 1851383], [\"Dens1973\", 1786514], [\"Frw_lasercop\", 1743476], [\"MiliatryJohn\", 1656304], [\"Zoula\", 1904007], [\"Baloo08459\", 1914597], [\"OctrainSilva420\", 1973957], [\"Tedo88\", 3000506], [\"TheWoozieTR\", 1743282], [\"PITBULL\", 1960201], [\"N3YVE / alt\", 9455067], [\"Ept\", 1781717], [\"Yo...[TH]\", 1859877], [\"[JapaneseChars.]\", 1666648], [\"Ludo.\", 1864182], [\"Emilio72\", 1701211], [\"YzbMeto\", 1746913], [\"Athys\", 1780572], [\"...GARUDA\", 1970131], [\"NguyenMihnTan\", 2006516], [\"HKBAY\", 2001014], [\"TYPHU1986\", 1852263], [\"[ThaiChars.]\", 3348069], [\"Dark~\", 1553517], [\"Red_Raven1984\", 1960642], [\"FlyingMac\", 1947438], [\"poseidon\", 1818486], [\"KaMaHAep\", 1653824], [\"[ChineseChars.]\", 1862987], [\"DBOYBD\", 1648504], [\"Picasa\", 1610125], [\"Mostafa3\", 1936738], [\"PUN\", 1798030], [\"Bakero\", 1559826], [\"YourDudeMAaan\", 1961386], [\"BBbrusier\", 1918918], [\"Drake59_SNK\", 1762899], [\"Alsaki\", 1879962], [\"Jmonster\", 1550880], [\"nooby314\", 1595963], [\"[FFBI]LaFee\", 1717896], [\"GANERY\", 1989703], [\"Janda_Gatel\", 1702341], [\"Jojo22\", 1988350], [\"AlphaCompany\", 2025795], [\"FuZzy\", 1744517], [\"FaiWar\", 1965646], [\"a6Ayrb\", 1855707], [\"urutucruzeiro\", 1828989], [\"rikou49_SNK\", 2023095], [\"imos\", 1614255], [\"sgt.JeckSparrow\", 4494118], [\"The_Fear[MERCY]\", 9166382], [\"SlaVaDaR\", 2008004], [\"Drake62_SNK\", 3432403], [\"DEDSEC\", 1977701], [\"WIZARDICE\", 1954279], [\"Malinkov\", 1912736], [\"HaMo\", 1565142], [null, 1693276], [null, 1887652], [null, 3992492], [\"Darkknight167\", 1644429], [\"EbalWasRawt\", 8964687], [\"KpakeH59\", 1758189], [null, 1721379], [null, 4220133], [null, 5887550], [null, 7287668], [null, 3685925], [null, 8953058], [\"Kineas\", 1572383], [\"SPB / big man\", 1746954], [\"[ChineseChars.]\", 1588687], [\"[TH}_Mercurius\", 1962477], [\"Berta666\", 1604351], [\"KBOOM\", 1598916], [\"*BaRs*\", 1945757], [\"FlakO\", 1566177], [\"EddyGr\", 1832957], [\"solornas\", 1932307], [\"balls1234\", 1626443], [\"\\u063a\\u0631\\u064a\\u0628 / doesn't like chips\", 1610085], [\"[ChineseChars.]\", 4731382], [\"Defiant-one\", 1845900], [\"PATAYA  / Patty\", 1755586], [\"[AsianChars.]\", 1894303], [\"EvFrat77\", 1642408], [\"AodzzyEvezaa / Squirrel's GF\", 1962819], [\"plam.auto23\", 1963796], [\"Dr.ScratchnSniff\", 1957249], [\"Vindeta\", 1896075], [\"tskbozkrt\", 2017413], [\"TigerII[TH]\", 1968970], [\"......SLDHN.....\", 1909741], [\"RANGER. / niceguy\", 1584956], [\"B.k.k\", 1605198], [\"YOSEF/ARYA\", 1565169], [\"[AsianChars.]\", 1581037], [\"[ThaiChars.] / Jet\", 1606277], [\"savage2\", 1891291], [\"DAGUIONE\", 1598114], [\"Andreyyy\", 2038746], [\"ANAN_DGL / former DGL?\", 1799002], [\"Commander_KONAN\", 1998423], [\"Beta888\", 4664063], [\"Rammstein\", 3189560], [\"BigBank\", 2030907], [\"TuNa\", 1726840], [\"MrKahn\", 1609071], [\"[ThaiChars.] / Pissed off guy\", 1596331], [\"[ChineseChars.]\", 1592078], [\"Tyomych\", 1972663], [\"kadir52\", 1785057], [\"Iwatani_Naofumi\", 3893375], [\"KURULTAY\", 1748106], [\"Vanhelsing_01\", 1700642], [\"AWANGART\", 1885098], [\"P.a.k.i.s.e.e.e.\", 6149996], [\"8\", 1984815], [\"[KoreanChars.]\", 1708484], [\"TAY\", 1671900], [\"lilpriddy813\", 3060134], [\"YGA\", 1585250], [\"Lonin\", 5328171], [\"F.U.R.Y'\", 1874461], [\"[AsianChars.]\", 1616215], [\"witch\", 1801943], [\"DILI\", 1858251], [\"Eddygreek / possible alt\", 3044413], [\"jastema78\", 2019642], [\"Commander\", 1755069], [\"Marsis\", 1725415], [\"HARUN_\", 1776374], [\"[AsianChars.]\", 1865653], [\"Slade74\", 1805078], [\"NoN2020\", 1860265], [\"CommandoSantos96\", 1562050], [\"zikwaer\", 1971443], [\"-MKA-\", 1786321], [\"Tede\", 1608673], [\"[AsianChars.]\", 1604581], [\"ERCAN\", 1848897], [\"Alesandr90\", 1992473], [\"Tomant\", 1993600], [\"sedek\", 1631071], [\"Munerasi\", 1744187], [\"Gash / somehow not an alt\", 3270634], [\"[AsianChars.]\", 5202432], [\"[ThaiChars.] / mini jet\", 3736069], [\"AboEyas\", 1776502], [\"Adel12345ppggr / WTF is this name?!\", 1593443], [\"Jaeck155\", 1552373], [\"[AsianChars.]\", 1618400], [\"CommanderJPaul\", 3631045], [\"G_E_ZAPATA\", 1582710], [\"Fantomas10rus\", 1649177], [\"[AsianChars.]\", 1632000], [\"Wew01\", 1875355], [\"MrKahn(-_-) / Kahn's alt\", 4992559], [\"Orlandofenix\", 1573117], [\"Khalilov_Ramazan\", 1938105], [\"[AsianChars.]\", 1575337], [\"stoffstorlch\", 1556477], [\"[AsianChars.]\", 1575337], [\"Im_Darrell \", 5301633], [\"xXxWhite.KingxXx / former TXT\", 4852613], [\"CommanderShaon /  ID# indicates alt\", 7670116], [\"MyDixieWrecked\", 4655873], [\"_NaGi_\", 1554915], [\"The.Dark.KingxXx / fomer TXT\", 4565765], [\"\\u68a6\\u98de\\u5f71\", 1590092], [\"Triufelis\", 1764607], [\"(Iraqi)\", 1553835], [\"Mexicano161\", 1574552], [\"ANGEL/OF/DEATH\", 5264184], [\"Nico1as\", 7892874], [\"Dunkan_\", 8852547], [\"Tutum\", 6040077], [\"JOHNATHAN\", 1567034], [\"Steven77\", 1616174], [\"HFC\", 1997055], [\"Dr.Scratch#2 / alt\", 4887297], [\"[AsianChars.]\", 1586447], [\"Sebaistian#3\", 6242527], [\"istaviTR\", 1759584], [\"anchinbihn\", 1709368], [\"PNHAT89\", 1849175], [\"Birador007\", 4346909], [\"TristianRonaldo\", 4794972], [\"rejekt\", 1646412], [\"[AsianChars.]\", 1968628], [\"[AsianChars.]\", 1917737], [\"DotX\", 1887007], [\"Maverick81\", 2028461], [\"[AsianChars.]\", 1571175], [\"[AsianChars.]\", 1640559], [\"NeroNei\", 2001438], [\"Omen\", 19039896], [\"MOPI\", 1780732], [\"MTA.dota\", 1954849], [\"OSCAR\", 1588509], [\"Evgesha_2203\", 1605459], [\"Artem\", 1625127], [\"SRKN\", 452820], [\"PLAYA79\", 1603379], [\"hihi87\", 1584682], [\"[AsianChars.]\", 1714140], [\"[AsianChars.]\", 2356599], [\"wtf.\", 1944263], [\"Darkknight / legit new player\", 10994524], [\"ATRISA /  legit new player\", 10524269], [\"Magneto / legit new player\", 11418972], [\"[AsianChars.]\", 1995675], [\"[SG]SUPREME_LV\", 1757754], [\"[AsianChars.]\", 1947580], [\"Dickyboy\", 1851492], [\"Kamu\", 1780401], [\"Leychen[GER]\", 1749553], [\"[AsianChars.]\", 1899031], [\"Shio\", 1569624], [\"Buljan-GS-TFG\", 1814005], [\"[AsianChars.]\", 1952999], [\"[AsianChars.]\", 1591723], [\"[AsianChars.]\", 1759191], [\"SweetChildOmine\", 1850069], [\"Spako\", 2001981], [\"GTs\", 1889918], [\"[AsianChars.]\", 1761875], [\"alt killer\", 2027283], [\"[AsianChars.]\", 1574713], [\"[AsianChars.]\", 1872114], [\"Matze77\", 1910740], [\"rs4race\", 1985732], [\"FRAME24\", 1806426], [\"_ARES_\", 1665072], [\"[SG]Wow\", 1645423], [\"Tedo88\", 1729914], [\"Vintovkin\", 1560705], [\"WarLorD[GER]\", 1994091], [\"A400M\", 1754586], [\"Diddi\", 1735948], [\"Ga_con\", 1980620], [\"Garuer_Wolf\", 1617364], [\"Dark_Moustache\", 1556046], [\"mmm_[TC]\", 1765459], [\"Robinette\", 2014412], [\"Zack\", 1899773], [\"VN1_DoanHau\", 1900344], [\"GE.FE.Rommel\", 1992836], [\"Errodgan--Prime\", 1847628], [\"Black_Shakal\", 1883347], [\"\\u5f37\\u5316\\u829d\\u9ebb\", 1660995], [\"Jeka89\", 1754958], [\"\\u632f\\u529b\", 1878769], [\"p.o.s.e.i.d.o.n\", 1555323], [\"\\u5730\\u7344\\u56de\\u4f86\\u7684\\u8001\\u86c7\", 1983518], [\"Gintonic\", 1618244], [\"NOKTA\", 1934924], [\"Devvv/ spy\", 1855373], [\"mgmgmg\", 2050392], [\"INGWARD_PYC\", 1579631], [\"ANEMOS\", 1641433], [\"\\u30b8\\u30fbDaRk-MoK\", 1957393], [\"kenavopika\", 1815508], [\"HaNoi\", 1711552], [\"[00FF00\\b]\\u9753\\u4ed4\", 2002754], [\"[F9F900\\b]\\u5df4\\u58eb\\u4f6c\", 1726455], [\"donjuan86\", 1921815], [\"\\u6700\\u5f37\\u8c6c\\u968a\\u53cb\", 1880404], [\"Johnweak\", 1852471], [\"\\u85cd\\u6230\\u58eb\", 1712867], [\"Gefatter(GER)\", 1993630], [\"~~NECO~~\", 1925356], [\"-Saboteur-\", 1570622], [\"Hantu_Laut_kidul\", 1735484], [\"(SG)SHY\", 1754909], [\"Tokyo_Hot\", 1982013], [\"K9-Thunder\", 1683665], [\"A-Cay\", 1707010], [\"Joshou\", 1701515], [\"\\u4f60\\u662f\\u8c01[SG\\b] / genuinely a nice guy\", 1761948], [\"Gunsche\", 1952205], [\"\\u6e38\\u8d70\\u5916\\u592a\\u7a7a\", 1655379], [\"SNK_Supervisor\", 1832714], [\"\\u519c\\u7518\\u5a01\", 1967941], [\"Ept\", 1781717], [\"[SG\\b]\\u51b7\\u8840\", 1889222], [\"Thunder!\", 1668781], [\"\\u6fd5\\u6fd5\\u7684\\u8868\\u59b9\", 1618097], [\"JoGoRoGo\", 1774227], [\"Warpath-PM\", 1820627], [\"OlboWan\", 1749173], [\"Bizonn\", 1966803], [\"BORED\", 2020142], [\"KamoCol\", 1924696], [\"Who_AM_I\", 1902513], [\"mmc_[TC\\b]\", 1765459], [\"Zack00ra\", 1899773], [\"H0USEN\", 1966895], [\"Slovenija\", 1979997], [\"Aljo[GS\\b]\", 1806204], [\"\\u5546\\u5bb6\\u4e0d\\u8001\\u5b9e2926\", 1836017], [\"GeneralThor\", 1670136], [\"conglan\", 3073685], [\"KLF\", 1994536], [\"\\u4ec1\\u8005\\u65e0\\u654c\", 1781633], [null, 1842975], [null, 2028159], [null, 1788671], [\"[SG\\b]SnOwMaN\", 1748337], [null, 1925560], [null, 4805361], [\"\\u677f\\u6817\\u5b50\", 1591723], [null, 1759191], [null, 1735948], [null, 1801342], [\"**BE$$**\", 1608888], [null, 1614797], [null, 1846688], [\"[FlyS\\b]BlackMaria\", 1599489], [\"\\u0410\\u043b\\u0430\\u043d.\", 1957256], [\"[SG\\b]\\u6253\\u67aa\\u89e3\\u95f7\", 1736325], [\"RickTer\", 1841781], [\"Maxpo\", 1855866], [\"\\u958b\\u59cb\\u95d6\\u8569\\u6c5f\\u6e56\", 1696571], [\"\\u8d77\\u5fc3\\u52a8\\u5ff5\", 17599589], [\"DeFrankLoca\", 1560613], [\"Kislotnik\", 1890528], [\"\\u542f\\u7738\\u4e00\\u7b11\", 1691992], [\"[FFFF00\\b]ng.duc\", 1593873], [\"kasumy\", 2039001], [\"atomcukx\", 1599034], [\"Mateoo-13\", 1762873], [\"[00FFFF\\b]\\u00fcnyeli\", 1782497], [\"Henry\\u4ea8\\u5229\", 1782649], [\"\\u0448\\u0443\\u0440\\u0438\\u043a777\", 1622764], [\"\\u88c5\\u7532\\u7b2c\\u4e5d\\u65c5\", 1696312], [\"Grounder\", 2013680], [\"Markmyword\", 1918262], [\"P.A.N.Z.E.H.i.R\", 1678635], [\"*BTZ_TFG*eLTe.St\", 1967724], [\"Jaipasdiday\", 2009383], [\"Starlet / weeb\", 1932235], [\"Gustav007\", 1663539], [\"\\u041a\\u0440\\u044b\\u043c82\", 1724365], [\"nabila684#\", 1831265], [\"GENERALI\", 1614818], [\"[00FF00\\b]GRANGER\", 1990674], [\"mmkvsusr\", 1988222], [\"\\u0420\\u043e\\u043c\\u0438\\u043a1\", 1947288], [\"Hanged_King\", 1633868], [\"\\u5317\\u5e9c\\u4e36snail\", 1640394], [\"W\\u00e1rP\\u00e1th\", 1956001], [\"Jagdpulver\", 2991308], [\"\\u7f85\\u62d4\\u8fea\\u5c3c\\u8def\", 1625380], [\"[\\u0428\\u0410\\u041c\\u0410\\u041d\\b]\", 1604591], [\"[B3D9D9\\b]\\u6b27\\u5df4\", 1988381], [\"$VIKING$\", 1846640], [\"Russia / But in Russian\", 1894789], [\"THE_JANGS\", 1920615], [\"*\\u041a\\u043eT* /former TFO. Dad died on new years day\", 1570974], [\"Double.Y40\", 1825541], [\"Pierrotlaune\", 1620307], [\"_JohnWick_\", 1965031], [\"ThesadisT\", 1798798], [\"lu\\u00e2n12\", 1871413], [\"Savas0090\", 1960276], [\"DunHill\", 1928418], [\"Mug\", 1796157], [\"-Togepi-\", 4000839], [\"-Snorlax-\", 4230919], [\"SPARTAN115\", 11254219], [\"SPARTAN225\", 1674059], [\"raffeal\", 1832626], [\"queenlover91919\", 1804187], [\"beatdown1255\", 1844995], [\"waityou-\", 4898804], [\"\\u6cbe\\u5c71\\u6942\", 4361046], [\"Supreme_Kid3\", 5134650], [\"BigSarge101st\", 2027855], [\"Erzherzogarmin\", 1774385], [\"Doubtfull\", 1606201], [\"Elonmask\", 1971354], [\"Jujitsubunny\", 1983463], [\"Loki#1st\", 2059131], [\"Mikasa\", 1799280], [\"Crayon\", 1856695], [\"Kelvin70\", 1972854], [\"Branchiotti\", 1833982], [\"Pizzaplanetguy\", 1960925], [\"Fedes1\", 1564339], [\"Struiz\", 1997458], [\"ItzHaze\", 1561769], [\"Mza\", 1760415], [\"capt_curt\", 1976980], [\"Vic044\", 1747122], [\"Saltydog\", 1942739], [\"mydnu\", 1922709], [\"Vulcan\", 1986421], [\"NoahTH_Hunter\", 1712901], [\"Kage_hxc\", 1964756], [\"Du$$e\", 1783070], [\"$Viking$\", 1846640], [\"a2ac\", 1901661], [\"Kstaz\", 1965541], [\"Arsoun \", 1627978], [\"Mr_D~Cz.pce\", 1658325], [\"Lapoutre \", 1778044], [\"Pinipilawolf\", 1733648], [\"Ironswift \", 1985979], [\"JeffBayzos\", 2896982], [\"Raydog0204\", 1676596], [\"Iwannatinkle\", 1812817], [\"Zii. \", 1683744], [\"\\u041f\\u0430\\u0440\\u0442\\u0438\\u0437\\u0430\\u041d\", 1869245], [\"Zavgar\", 1575161], [\"Tval \", 1971912], [\"Roni_n\", 1807834], [\"Londer \", 1626293], [\"(COTD) Mr.Clean\", 1924276], [\"Juv \", 1997411], [\"153guy\", 1687011], [\"555\\u0418\\u043b\\u044c\\u044f555\", 1923762], [\"VN3_truongngoc\", 2019094], [\"kombayashi \", 1957854], [\"\\u0414\\u043e\\u043d\\u041f\\u0438\\u043e\\u043d\", 1818891], [\"IRkevin\", 1974065], [\"Serjglk1\", 1644889], [\"sgtrock 262\", 2055684], [\"J.Sparrow\", 1563459], [\"-Boid-\", 1984567], [\"Hilli\", 1795002], [\"Voj-kotl\\u00e1r\", 1780317], [\"NightStorm\", 1732005], [\"(FAKE) Doubtfull\", 1993364], [\"Redbull@lovo\", 1872220], [\"Dormus \", 1553979], [\"Kara pars\", 2014540], [\"Husla \", 1967888], [\"Dance Baby Dance\", 1925003], [\"Pinky007\", 2011636], [\"KeeWhizz\", 1757868], [\"General-Rommel\", 1999686], [\"rs4Race\", 1985732], [\"(CoTD)Ripperc100\", 1916857], [\"Tahir\", 1748048], [\"Deadshot#1\", 1948404], [\"_I_AM_BIP\", 1710460], [\"Slayer\", 1645903], [\"G\\u00e0_con\", 1980620], [\"~~NECO~~\", 1925356], [\"P.A.N.Z.E.H.i.R\", 1678635], [\"SpartanOne(AS)\", 1942923], [\"Nicomedia\", 1989991], [\"Judgement_Reaper\", 1659413], [\"xChefCrazX[StWr\", 1959916], [\"atomcukx\", 1599034], [\"Torakus\", 1974661], [\"Jagdpulver\", 2991308], [\"Skorer[Ger]\", 1769141], [\"Nasty04\", 1820016], [\"XplodNoodle\", 1825664], [\"1Fury1\", 1956975], [\"ssraver\", 1785321], [\"_Polkovnik\", 1656532], [\"GrotePiet\", 2013294], [\"LeonTheKid\", 1809434], [\"ORDA\", 1670964], [\"Destroyer781\", 1800954], [\"D\\u00eeckyBoy\", 1851492], [\"Erdogan--Prime\", 1847628], [\"Bizonn\", 1966803], [\"\\u0411\\u043e\\u043a\\u0441\\u0435\\u0440103\", 1563989], [\"ThesadisT\", 1798798], [\"p.o.s.e.i.d.o.n\", 1555323], [\"**BE$$**\", 1608888], [\"~~NECO~~\", 1925356], [\"Kislotnik\", 1890528], [\"Savas0090\", 1960276], [\"SpakoS.S@81\", 2001981], [\"Dark_Moustache\", 1556046], [\"Balr\\u00f8g\", 1655408], [\"LeomaN_B44\", 1864798], [\"Ingward_PYC\", 1579631], [\"SweetWar \", 1773709], [\"Novemberpasali\", 1889358], [\"Jeka89\", 1754958], [\"Erzherzogarmin\", 1774385], [\"Snullelivet\", 1662078], [\"SPB\", 1746954], [\"153guy\", 1687011], [\"Capt_Curt\", 1976980], [\"xChefCrazX[StWr\\b]\", 1959916], [\"Combinator\", 1786663]], \"hoverlabel\": {\"namelength\": 0}, \"hovertemplate\": \"Alliance=%{x}<br>ID=%{marker.color}<br>Name=%{customdata[0]}\", \"legendgroup\": \"\", \"marker\": {\"color\": [1702088, 1938965, 1750516, 1694249, 1281808, 1991832, 4602158, 1957256, 1777774, 1581915, 1896227, 2025124, 1894773, 1954559, 1831105, 1955178, 168776, 1963459, 1995840, 2003680, 159878, 1776338, 1926920, 1904795, 1963030, 1859179, 1646070, 2027697, 1599186, 1713781, 1763384, 1646046, 1961896, 1620984, 1981103, 1988927, 1829778, 2045827, 1912063, 1940565, 3565895, 1670474, 1579365, 1977133, 1887879, 2752764, 1671698, 1932308, 1979272, 1980108, 2775228, 1970131, 1643928, 1673198, 1696284, 3893375, 1573517, 1802479, 1851638, 1740938, 1933593, 2050190, 1568182, 1965692, 1714139, 386178, 1987613, 1978752, 1907994, 1728376, 1692319, 3845172, 1634804, 1897395, 1893874, 1718802, 1994351, 1933779, 1733812, 4558259, 2012074, 1941265, 1943405, 1743782, 1779718, 1952306, 1981923, 1964000, 1552558, 1957124, 1850523, 5158389, 1609013, 4976562, 3346142, 1940826, 1971147, 1975699, 3723912, 1622122, 1816702, 1992298, 1976120, 1858978, 1692318, 1758166, 1696385, 1998677, 1729706, 1577133, 1988955, 1728339, 1843067, 1978553, 4926996, 1990086, 1811650, 1699005, 8025598, 8577812, 1851383, 1786514, 1743476, 1656304, 1904007, 1914597, 1973957, 3000506, 1743282, 1960201, 9455067, 1781717, 1859877, 1666648, 1864182, 1701211, 1746913, 1780572, 1970131, 2006516, 2001014, 1852263, 3348069, 1553517, 1960642, 1947438, 1818486, 1653824, 1862987, 1648504, 1610125, 1936738, 1798030, 1559826, 1961386, 1918918, 1762899, 1879962, 1550880, 1595963, 1717896, 1989703, 1702341, 1988350, 2025795, 1744517, 1965646, 1855707, 1828989, 2023095, 1614255, 4494118, 9166382, 2008004, 3432403, 1977701, 1954279, 1912736, 1565142, 1693276, 1887652, 3992492, 1644429, 8964687, 1758189, 1721379, 4220133, 5887550, 7287668, 3685925, 8953058, 1572383, 1746954, 1588687, 1962477, 1604351, 1598916, 1945757, 1566177, 1832957, 1932307, 1626443, 1610085, 4731382, 1845900, 1755586, 1894303, 1642408, 1962819, 1963796, 1957249, 1896075, 2017413, 1968970, 1909741, 1584956, 1605198, 1565169, 1581037, 1606277, 1891291, 1598114, 2038746, 1799002, 1998423, 4664063, 3189560, 2030907, 1726840, 1609071, 1596331, 1592078, 1972663, 1785057, 3893375, 1748106, 1700642, 1885098, 6149996, 1984815, 1708484, 1671900, 3060134, 1585250, 5328171, 1874461, 1616215, 1801943, 1858251, 3044413, 2019642, 1755069, 1725415, 1776374, 1865653, 1805078, 1860265, 1562050, 1971443, 1786321, 1608673, 1604581, 1848897, 1992473, 1993600, 1631071, 1744187, 3270634, 5202432, 3736069, 1776502, 1593443, 1552373, 1618400, 3631045, 1582710, 1649177, 1632000, 1875355, 4992559, 1573117, 1938105, 1575337, 1556477, 1575337, 5301633, 4852613, 7670116, 4655873, 1554915, 4565765, 1590092, 1764607, 1553835, 1574552, 5264184, 7892874, 8852547, 6040077, 1567034, 1616174, 1997055, 4887297, 1586447, 6242527, 1759584, 1709368, 1849175, 4346909, 4794972, 1646412, 1968628, 1917737, 1887007, 2028461, 1571175, 1640559, 2001438, 19039896, 1780732, 1954849, 1588509, 1605459, 1625127, 452820, 1603379, 1584682, 1714140, 2356599, 1944263, 10994524, 10524269, 11418972, 1995675, 1757754, 1947580, 1851492, 1780401, 1749553, 1899031, 1569624, 1814005, 1952999, 1591723, 1759191, 1850069, 2001981, 1889918, 1761875, 2027283, 1574713, 1872114, 1910740, 1985732, 1806426, 1665072, 1645423, 1729914, 1560705, 1994091, 1754586, 1735948, 1980620, 1617364, 1556046, 1765459, 2014412, 1899773, 1900344, 1992836, 1847628, 1883347, 1660995, 1754958, 1878769, 1555323, 1983518, 1618244, 1934924, 1855373, 2050392, 1579631, 1641433, 1957393, 1815508, 1711552, 2002754, 1726455, 1921815, 1880404, 1852471, 1712867, 1993630, 1925356, 1570622, 1735484, 1754909, 1982013, 1683665, 1707010, 1701515, 1761948, 1952205, 1655379, 1832714, 1967941, 1781717, 1889222, 1668781, 1618097, 1774227, 1820627, 1749173, 1966803, 2020142, 1924696, 1902513, 1765459, 1899773, 1966895, 1979997, 1806204, 1836017, 1670136, 3073685, 1994536, 1781633, 1842975, 2028159, 1788671, 1748337, 1925560, 4805361, 1591723, 1759191, 1735948, 1801342, 1608888, 1614797, 1846688, 1599489, 1957256, 1736325, 1841781, 1855866, 1696571, 17599589, 1560613, 1890528, 1691992, 1593873, 2039001, 1599034, 1762873, 1782497, 1782649, 1622764, 1696312, 2013680, 1918262, 1678635, 1967724, 2009383, 1932235, 1663539, 1724365, 1831265, 1614818, 1990674, 1988222, 1947288, 1633868, 1640394, 1956001, 2991308, 1625380, 1604591, 1988381, 1846640, 1894789, 1920615, 1570974, 1825541, 1620307, 1965031, 1798798, 1871413, 1960276, 1928418, 1796157, 4000839, 4230919, 11254219, 1674059, 1832626, 1804187, 1844995, 4898804, 4361046, 5134650, 2027855, 1774385, 1606201, 1971354, 1983463, 2059131, 1799280, 1856695, 1972854, 1833982, 1960925, 1564339, 1997458, 1561769, 1760415, 1976980, 1747122, 1942739, 1922709, 1986421, 1712901, 1964756, 1783070, 1846640, 1901661, 1965541, 1627978, 1658325, 1778044, 1733648, 1985979, 2896982, 1676596, 1812817, 1683744, 1869245, 1575161, 1971912, 1807834, 1626293, 1924276, 1997411, 1687011, 1923762, 2019094, 1957854, 1818891, 1974065, 1644889, 2055684, 1563459, 1984567, 1795002, 1780317, 1732005, 1993364, 1872220, 1553979, 2014540, 1967888, 1925003, 2011636, 1757868, 1999686, 1985732, 1916857, 1748048, 1948404, 1710460, 1645903, 1980620, 1925356, 1678635, 1942923, 1989991, 1659413, 1959916, 1599034, 1974661, 2991308, 1769141, 1820016, 1825664, 1956975, 1785321, 1656532, 2013294, 1809434, 1670964, 1800954, 1851492, 1847628, 1966803, 1563989, 1798798, 1555323, 1608888, 1925356, 1890528, 1960276, 2001981, 1556046, 1655408, 1864798, 1579631, 1773709, 1889358, 1754958, 1774385, 1662078, 1746954, 1687011, 1976980, 1959916, 1786663], \"coloraxis\": \"coloraxis\", \"symbol\": \"circle\"}, \"mode\": \"markers\", \"name\": \"\", \"showlegend\": false, \"type\": \"scatter\", \"x\": [\"TFGs\", \"TFGs\", \"TFGs\", \"TFGs\", \"TFGs\", \"TFGs\", \"TFGs\", \"TFGs\", \"TFGs\", \"TFGs\", \"TFGs\", \"TFGs\", \"TFGs\", \"TFGs\", \"TFGs\", \"TFGs\", \"TFGs\", \"TFGs\", \"TFGs\", \"TFGs\", \"TFGs\", \"TFGs\", \"TFGs\", \"TFGs\", \"TFGs\", \"TFGs\", \"TFGs\", \"TFGs\", \"TFGs\", \"TFGs\", \"TFGs\", \"TFGs\", \"TFGs\", \"TFGs\", \"TFGs\", \"TFGs\", \"TFGs\", \"TFGs\", \"TFGs\", \"TFGs\", \"TFGs\", \"TFGs\", \"TFGs\", \"TFGs\", \"TFGs\", \"TFGs\", \"TFGs\", \"TFGs\", \"TFGs\", \"TFGs\", \"TFGs\", \"TFGs\", \"TFGs\", \"TFGs\", \"TFGs\", \"TFGs\", \"TFGs\", \"TFGs\", \"TFGs\", \"TFGs\", \"TFGs\", \"TFGs\", \"TFGs\", \"TFGs\", \"TFGs\", \"TFGs\", \"TFGs\", \"TFGs\", \"TFGs\", \"TFGs\", \"TFGs\", \"TFGs\", \"TFGs\", \"TFGs\", \"TFGs\", \"TFGs\", \"TFGs\", \"TFGs\", \"TFGs\", \"TFGs\", \"TFGs\", \"TFGs\", \"TFGs\", \"TFGs\", \"TFGs\", \"TFGs\", \"TFGs\", \"TFGs\", \"TFGs\", \"TFGs\", \"TFGs\", \"TFGs\", \"TFGs\", \"TFGs\", \"TFGs\", \"TFGs\", \"TFGs\", \"TFGs\", \"TFGs\", \"TFGs\", \"TFGs\", \"TFGs\", \"TFGs\", \"TFGs\", \"TFGs\", \"TFGs\", \"TFGs\", \"TFGs\", \"TFGs\", \"TFGs\", \"TFGs\", \"TFGs\", \"TFGs\", \"TFGs\", \"TFGs\", \"TFGs\", \"TFGs\", \"TFGs\", \"TFGs\", \"TFGs\", \"TFGs\", \"TFGs\", \"TFGs\", \"TFGs\", \"TFGs\", \"TFGs\", \"TFGs\", \"TFGs\", \"TFGs\", \"TFGs\", \"TFGs\", \"TFGs\", \"TFGs\", \"TFGs\", \"TFGs\", \"TFGs\", \"TFGs\", \"TFGs\", \"TFGs\", \"TFGs\", \"TFGs\", \"TFGs\", \"TFGs\", \"TFGs\", \"TFGs\", \"TFGs\", \"TFGs\", \"TFGs\", \"TFGs\", \"TFGs\", \"TFGs\", \"TFGs\", \"TFGs\", \"TFGs\", \"TFGs\", \"TFGs\", \"TFGs\", \"TFGs\", \"TFGs\", \"TFGs\", \"TFGs\", \"TFGs\", \"TFGs\", \"TFGs\", \"TFGs\", \"TFGs\", \"TFGs\", \"TFGs\", \"TFGs\", \"TFGs\", \"TFGs\", \"TFGs\", \"TFGs\", \"TFGs\", \"TFGs\", \"TFGs\", \"TFGs\", \"TFGs\", \"TFGs\", \"TFGs\", \"TFGs\", \"TFGs\", \"TFGs\", \"TFGs\", \"TFGs\", \"TFGs\", \"TFGs\", \"TFGs\", \"TFGs\", \"TFGs\", \"TFGs\", \"TFGb\", \"TFGb\", \"TFGb\", \"TFGb\", \"TFGb\", \"TFGb\", \"TFGb\", \"TFGb\", \"TFGb\", \"TFGb\", \"TFGb\", \"TFGb\", \"TFGb\", \"TFGb\", \"TFGb\", \"TFGb\", \"TFGb\", \"TFGb\", \"TFGb\", \"TFGb\", \"TFGb\", \"TFGb\", \"TFGb\", \"TFGb\", \"TFGb\", \"TFGb\", \"TFGb\", \"TFGb\", \"TFGb\", \"TFGb\", \"TFGb\", \"TFGb\", \"TFGb\", \"TFGb\", \"TFGb\", \"TFGb\", \"TFGb\", \"TFGb\", \"TFGb\", \"TFGb\", \"TFGb\", \"TFGb\", \"TFGb\", \"TFGb\", \"TFGb\", \"TFGb\", \"TFGb\", \"TFGb\", \"TFGb\", \"TFGb\", \"TFGb\", \"TFGb\", \"TFGb\", \"TFGb\", \"TFGb\", \"TFGb\", \"TFGb\", \"TFGb\", \"TFGb\", \"TFGb\", \"TFGb\", \"TFGb\", \"TFGb\", \"TFGb\", \"TFGb\", \"TFGb\", \"TFGb\", \"TFGb\", \"TFGb\", \"TFGb\", \"TFGb\", \"TFGb\", \"TFGb\", \"TFGb\", \"TFGb\", \"TFGb\", \"TFGb\", \"TFGb\", \"TFGb\", \"TFGb\", \"TFGb\", \"TFGb\", \"TFGb\", \"TFGb\", \"TFGb\", \"TFGb\", \"TFGb\", \"TFGb\", \"TFGb\", \"TFGb\", \"TFGb\", \"TFGb\", \"TFGb\", \"TFGb\", \"TFGb\", \"TFGb\", \"TFGb\", \"TFGb\", \"TFGb\", \"TFGb\", \"TFGb\", \"TFGb\", \"TFGb\", \"TFGb\", \"TFGb\", \"TFGb\", \"TFGb\", \"TFGb\", \"TFGb\", \"TFGb\", \"TFGb\", \"TFGb\", \"TFGb\", \"TFGb\", \"TFGb\", \"TFGb\", \"TFGb\", \"TFGb\", \"TFGb\", \"TFGb\", \"TFGb\", \"TFGb\", \"TFGb\", \"TFGb\", \"TFGb\", \"TFGb\", \"TFGb\", \"TFGb\", \"TFGb\", \"TFGb\", \"TFGb\", \"TFGb\", \"TFGb\", \"TFGb\", \"TFGb\", \"TFGb\", \"TFGb\", \"TFGb\", \"TFGb\", \"TFGb\", \"TFGb\", \"TFGb\", \"TFGb\", \"TFG\", \"TFG\", \"TFG\", \"TFG\", \"TFG\", \"TFG\", \"TFG\", \"TFG\", \"TFG\", \"TFG\", \"TFG\", \"TFG\", \"TFG\", \"TFG\", \"TFG\", \"TFG\", \"TFG\", \"TFG\", \"TFG\", \"TFG\", \"TFG\", \"TFG\", \"TFG\", \"TFG\", \"TFG\", \"TFG\", \"TFG\", \"TFG\", \"TFG\", \"TFG\", \"TFG\", \"TFG\", \"TFG\", \"TFG\", \"TFG\", \"TFG\", \"TFG\", \"TFG\", \"TFG\", \"TFG\", \"TFG\", \"TFG\", \"TFG\", \"TFG\", \"TFG\", \"TFG\", \"TFG\", \"TFG\", \"TFG\", \"TFG\", \"TFG\", \"TFG\", \"TFG\", \"TFG\", \"TFG\", \"TFG\", \"TFG\", \"TFG\", \"TFG\", \"TFG\", \"TFG\", \"TFG\", \"TFG\", \"TFG\", \"TFG\", \"TFG\", \"TFG\", \"TFG\", \"TFG\", \"TFG\", \"TFG\", \"TFG\", \"TFG\", \"TFG\", \"TFG\", \"TFG\", \"TFG\", \"TFG\", \"TFG\", \"TFG\", \"TFG\", \"TFG\", \"TFG\", \"TFG\", \"TFG\", \"TFG\", \"TFG\", \"TFG\", \"TFG\", \"TFG\", \"TFG\", \"TFG\", \"TFG\", \"TFG\", \"TFG\", \"TFG\", \"TFG\", \"TFG\", \"TFG\", \"TFG\", \"TFG\", \"TFG\", \"TFG\", \"TFG\", \"TFG\", \"TFG\", \"TFG\", \"TFG\", \"TFG\", \"TFG\", \"TFG\", \"TFG\", \"TFG\", \"TFG\", \"TFG\", \"TFG\", \"TFG\", \"TFG\", \"TFG\", \"TFG\", \"TFG\", \"TFG\", \"TFG\", \"TFG\", \"TFG\", \"TFG\", \"TFG\", \"TFG\", \"TFG\", \"TFG\", \"TFG\", \"TFG\", \"TFG\", \"TFG\", \"TFG\", \"TFG\", \"TFG\", \"TFG\", \"TFG\", \"TFG\", \"TFG\", \"TFG\", \"TFG\", \"TFG\", \"TFG\", \"TFG\", \"TFG\", \"TFG\", \"TFG\", \"TFG\", \"TFG\", \"TFG\", \"TFG\", \"TFG\", \"TFG\", \"TFG\", \"TFG\", \"TFG\", \"1225\", \"1225\", \"1225\", \"1225\", \"1225\", \"SKGR\", \"TFG\", \"TFG\", \"PhnX\", \"PhnX\", \"PhnX\", \"PhnX\", \"PhnX\", \"PhnX\", \"PhnX\", \"PhnX\", \"PhnX\", \"PhnX\", \"PhnX\", \"PhnX\", \"PhnX\", \"PhnX\", \"PhnX\", \"PhnX\", \"PhnX\", \"PhnX\", \"PhnX\", \"PhnX\", \"PhnX\", \"PhnX\", \"PhnX\", \"PhnX\", \"PhnX\", \"PhnX\", \"PhnX\", \"PhnX\", \"PhnX\", \"PhnX\", \"PhnX\", \"PhnX\", \"PhnX\", \"PhnX\", \"PhnX\", \"PhnX\", \"PhnX\", \"PhnX\", \"PhnX\", \"PhnX\", \"PhnX\", \"PhnX\", \"PhnX\", \"PhnX\", \"PhnX\", \"PhnX\", \"PhnX\", \"PhnX\", \"PhnX\", \"PhnX\", \"PhnX\", \"PhnX\", \"PhnX\", \"PhnX\", \"PhnX\", \"PhnX\", \"PhnX\", \"PhnX\", \"PhnX\", \"PhnX\", \"PhnX\", \"PhnX\", \"PhnX\", \"PhnX\", \"PhnX\", \"PhnX\", \"PhnX\", \"PhnX\", \"PhnX\", \"PhnX\", \"PhnX\", \"PhnX\", \"PhnX\", \"PhnX\", \"PhnX\", \"PhnX\", \"PhnX\", \"PhnX\", \"PhnX\", \"PhnX\", \"PhnX\", \"PhnX\", \"PhnX\", \"PhnX\", \"PhnX\", \"PhnX\", \"PhnX\", \"PhnX\", \"PhnX\", \"PhnX\", \"PhnX\", \"PhnX\", \"PhnX\", \"PhnX\", \"PhnX\", \"PhnX\", \"PhnX\", \"PhnX\", \"PhnX\", \"PhnX\", \"PhnX\", \"PhnX\", \"PhnX\", \"PhnX\", \"PhnX\", \"PhnX\", \"PhnX\", \"PhnX\", \"PhnX\", \"PhnX\", \"PhnX\", \"PhnX\", \"PhnX\", \"PhnX\", \"PhnX\"], \"xaxis\": \"x\", \"y\": [1702088, 1938965, 1750516, 1694249, 1281808, 1991832, 4602158, 1957256, 1777774, 1581915, 1896227, 2025124, 1894773, 1954559, 1831105, 1955178, 168776, 1963459, 1995840, 2003680, 159878, 1776338, 1926920, 1904795, 1963030, 1859179, 1646070, 2027697, 1599186, 1713781, 1763384, 1646046, 1961896, 1620984, 1981103, 1988927, 1829778, 2045827, 1912063, 1940565, 3565895, 1670474, 1579365, 1977133, 1887879, 2752764, 1671698, 1932308, 1979272, 1980108, 2775228, 1970131, 1643928, 1673198, 1696284, 3893375, 1573517, 1802479, 1851638, 1740938, 1933593, 2050190, 1568182, 1965692, 1714139, 386178, 1987613, 1978752, 1907994, 1728376, 1692319, 3845172, 1634804, 1897395, 1893874, 1718802, 1994351, 1933779, 1733812, 4558259, 2012074, 1941265, 1943405, 1743782, 1779718, 1952306, 1981923, 1964000, 1552558, 1957124, 1850523, 5158389, 1609013, 4976562, 3346142, 1940826, 1971147, 1975699, 3723912, 1622122, 1816702, 1992298, 1976120, 1858978, 1692318, 1758166, 1696385, 1998677, 1729706, 1577133, 1988955, 1728339, 1843067, 1978553, 4926996, 1990086, 1811650, 1699005, 8025598, 8577812, 1851383, 1786514, 1743476, 1656304, 1904007, 1914597, 1973957, 3000506, 1743282, 1960201, 9455067, 1781717, 1859877, 1666648, 1864182, 1701211, 1746913, 1780572, 1970131, 2006516, 2001014, 1852263, 3348069, 1553517, 1960642, 1947438, 1818486, 1653824, 1862987, 1648504, 1610125, 1936738, 1798030, 1559826, 1961386, 1918918, 1762899, 1879962, 1550880, 1595963, 1717896, 1989703, 1702341, 1988350, 2025795, 1744517, 1965646, 1855707, 1828989, 2023095, 1614255, 4494118, 9166382, 2008004, 3432403, 1977701, 1954279, 1912736, 1565142, 1693276, 1887652, 3992492, 1644429, 8964687, 1758189, 1721379, 4220133, 5887550, 7287668, 3685925, 8953058, 1572383, 1746954, 1588687, 1962477, 1604351, 1598916, 1945757, 1566177, 1832957, 1932307, 1626443, 1610085, 4731382, 1845900, 1755586, 1894303, 1642408, 1962819, 1963796, 1957249, 1896075, 2017413, 1968970, 1909741, 1584956, 1605198, 1565169, 1581037, 1606277, 1891291, 1598114, 2038746, 1799002, 1998423, 4664063, 3189560, 2030907, 1726840, 1609071, 1596331, 1592078, 1972663, 1785057, 3893375, 1748106, 1700642, 1885098, 6149996, 1984815, 1708484, 1671900, 3060134, 1585250, 5328171, 1874461, 1616215, 1801943, 1858251, 3044413, 2019642, 1755069, 1725415, 1776374, 1865653, 1805078, 1860265, 1562050, 1971443, 1786321, 1608673, 1604581, 1848897, 1992473, 1993600, 1631071, 1744187, 3270634, 5202432, 3736069, 1776502, 1593443, 1552373, 1618400, 3631045, 1582710, 1649177, 1632000, 1875355, 4992559, 1573117, 1938105, 1575337, 1556477, 1575337, 5301633, 4852613, 7670116, 4655873, 1554915, 4565765, 1590092, 1764607, 1553835, 1574552, 5264184, 7892874, 8852547, 6040077, 1567034, 1616174, 1997055, 4887297, 1586447, 6242527, 1759584, 1709368, 1849175, 4346909, 4794972, 1646412, 1968628, 1917737, 1887007, 2028461, 1571175, 1640559, 2001438, 19039896, 1780732, 1954849, 1588509, 1605459, 1625127, 452820, 1603379, 1584682, 1714140, 2356599, 1944263, 10994524, 10524269, 11418972, 1995675, 1757754, 1947580, 1851492, 1780401, 1749553, 1899031, 1569624, 1814005, 1952999, 1591723, 1759191, 1850069, 2001981, 1889918, 1761875, 2027283, 1574713, 1872114, 1910740, 1985732, 1806426, 1665072, 1645423, 1729914, 1560705, 1994091, 1754586, 1735948, 1980620, 1617364, 1556046, 1765459, 2014412, 1899773, 1900344, 1992836, 1847628, 1883347, 1660995, 1754958, 1878769, 1555323, 1983518, 1618244, 1934924, 1855373, 2050392, 1579631, 1641433, 1957393, 1815508, 1711552, 2002754, 1726455, 1921815, 1880404, 1852471, 1712867, 1993630, 1925356, 1570622, 1735484, 1754909, 1982013, 1683665, 1707010, 1701515, 1761948, 1952205, 1655379, 1832714, 1967941, 1781717, 1889222, 1668781, 1618097, 1774227, 1820627, 1749173, 1966803, 2020142, 1924696, 1902513, 1765459, 1899773, 1966895, 1979997, 1806204, 1836017, 1670136, 3073685, 1994536, 1781633, 1842975, 2028159, 1788671, 1748337, 1925560, 4805361, 1591723, 1759191, 1735948, 1801342, 1608888, 1614797, 1846688, 1599489, 1957256, 1736325, 1841781, 1855866, 1696571, 17599589, 1560613, 1890528, 1691992, 1593873, 2039001, 1599034, 1762873, 1782497, 1782649, 1622764, 1696312, 2013680, 1918262, 1678635, 1967724, 2009383, 1932235, 1663539, 1724365, 1831265, 1614818, 1990674, 1988222, 1947288, 1633868, 1640394, 1956001, 2991308, 1625380, 1604591, 1988381, 1846640, 1894789, 1920615, 1570974, 1825541, 1620307, 1965031, 1798798, 1871413, 1960276, 1928418, 1796157, 4000839, 4230919, 11254219, 1674059, 1832626, 1804187, 1844995, 4898804, 4361046, 5134650, 2027855, 1774385, 1606201, 1971354, 1983463, 2059131, 1799280, 1856695, 1972854, 1833982, 1960925, 1564339, 1997458, 1561769, 1760415, 1976980, 1747122, 1942739, 1922709, 1986421, 1712901, 1964756, 1783070, 1846640, 1901661, 1965541, 1627978, 1658325, 1778044, 1733648, 1985979, 2896982, 1676596, 1812817, 1683744, 1869245, 1575161, 1971912, 1807834, 1626293, 1924276, 1997411, 1687011, 1923762, 2019094, 1957854, 1818891, 1974065, 1644889, 2055684, 1563459, 1984567, 1795002, 1780317, 1732005, 1993364, 1872220, 1553979, 2014540, 1967888, 1925003, 2011636, 1757868, 1999686, 1985732, 1916857, 1748048, 1948404, 1710460, 1645903, 1980620, 1925356, 1678635, 1942923, 1989991, 1659413, 1959916, 1599034, 1974661, 2991308, 1769141, 1820016, 1825664, 1956975, 1785321, 1656532, 2013294, 1809434, 1670964, 1800954, 1851492, 1847628, 1966803, 1563989, 1798798, 1555323, 1608888, 1925356, 1890528, 1960276, 2001981, 1556046, 1655408, 1864798, 1579631, 1773709, 1889358, 1754958, 1774385, 1662078, 1746954, 1687011, 1976980, 1959916, 1786663], \"yaxis\": \"y\"}],\n",
              "                        {\"coloraxis\": {\"colorbar\": {\"title\": {\"text\": \"ID\"}}, \"colorscale\": [[0.0, \"#0d0887\"], [0.1111111111111111, \"#46039f\"], [0.2222222222222222, \"#7201a8\"], [0.3333333333333333, \"#9c179e\"], [0.4444444444444444, \"#bd3786\"], [0.5555555555555556, \"#d8576b\"], [0.6666666666666666, \"#ed7953\"], [0.7777777777777778, \"#fb9f3a\"], [0.8888888888888888, \"#fdca26\"], [1.0, \"#f0f921\"]]}, \"legend\": {\"tracegroupgap\": 0}, \"margin\": {\"t\": 60}, \"template\": {\"data\": {\"bar\": [{\"error_x\": {\"color\": \"#2a3f5f\"}, \"error_y\": {\"color\": \"#2a3f5f\"}, \"marker\": {\"line\": {\"color\": \"#E5ECF6\", \"width\": 0.5}}, \"type\": \"bar\"}], \"barpolar\": [{\"marker\": {\"line\": {\"color\": \"#E5ECF6\", \"width\": 0.5}}, \"type\": \"barpolar\"}], \"carpet\": [{\"aaxis\": {\"endlinecolor\": \"#2a3f5f\", \"gridcolor\": \"white\", \"linecolor\": \"white\", \"minorgridcolor\": \"white\", \"startlinecolor\": \"#2a3f5f\"}, \"baxis\": {\"endlinecolor\": \"#2a3f5f\", \"gridcolor\": \"white\", \"linecolor\": \"white\", \"minorgridcolor\": \"white\", \"startlinecolor\": \"#2a3f5f\"}, \"type\": \"carpet\"}], \"choropleth\": [{\"colorbar\": {\"outlinewidth\": 0, \"ticks\": \"\"}, \"type\": \"choropleth\"}], \"contour\": [{\"colorbar\": {\"outlinewidth\": 0, \"ticks\": \"\"}, \"colorscale\": [[0.0, \"#0d0887\"], [0.1111111111111111, \"#46039f\"], [0.2222222222222222, \"#7201a8\"], [0.3333333333333333, \"#9c179e\"], [0.4444444444444444, \"#bd3786\"], [0.5555555555555556, \"#d8576b\"], [0.6666666666666666, \"#ed7953\"], [0.7777777777777778, \"#fb9f3a\"], [0.8888888888888888, \"#fdca26\"], [1.0, \"#f0f921\"]], \"type\": \"contour\"}], \"contourcarpet\": [{\"colorbar\": {\"outlinewidth\": 0, \"ticks\": \"\"}, \"type\": \"contourcarpet\"}], \"heatmap\": [{\"colorbar\": {\"outlinewidth\": 0, \"ticks\": \"\"}, \"colorscale\": [[0.0, \"#0d0887\"], [0.1111111111111111, \"#46039f\"], [0.2222222222222222, \"#7201a8\"], [0.3333333333333333, \"#9c179e\"], [0.4444444444444444, \"#bd3786\"], [0.5555555555555556, \"#d8576b\"], [0.6666666666666666, \"#ed7953\"], [0.7777777777777778, \"#fb9f3a\"], [0.8888888888888888, \"#fdca26\"], [1.0, \"#f0f921\"]], \"type\": \"heatmap\"}], \"heatmapgl\": [{\"colorbar\": {\"outlinewidth\": 0, \"ticks\": \"\"}, \"colorscale\": [[0.0, \"#0d0887\"], [0.1111111111111111, \"#46039f\"], [0.2222222222222222, \"#7201a8\"], [0.3333333333333333, \"#9c179e\"], [0.4444444444444444, \"#bd3786\"], [0.5555555555555556, \"#d8576b\"], [0.6666666666666666, \"#ed7953\"], [0.7777777777777778, \"#fb9f3a\"], [0.8888888888888888, \"#fdca26\"], [1.0, \"#f0f921\"]], \"type\": \"heatmapgl\"}], \"histogram\": [{\"marker\": {\"colorbar\": {\"outlinewidth\": 0, \"ticks\": \"\"}}, \"type\": \"histogram\"}], \"histogram2d\": [{\"colorbar\": {\"outlinewidth\": 0, \"ticks\": \"\"}, \"colorscale\": [[0.0, \"#0d0887\"], [0.1111111111111111, \"#46039f\"], [0.2222222222222222, \"#7201a8\"], [0.3333333333333333, \"#9c179e\"], [0.4444444444444444, \"#bd3786\"], [0.5555555555555556, \"#d8576b\"], [0.6666666666666666, \"#ed7953\"], [0.7777777777777778, \"#fb9f3a\"], [0.8888888888888888, \"#fdca26\"], [1.0, \"#f0f921\"]], \"type\": \"histogram2d\"}], \"histogram2dcontour\": [{\"colorbar\": {\"outlinewidth\": 0, \"ticks\": \"\"}, \"colorscale\": [[0.0, \"#0d0887\"], [0.1111111111111111, \"#46039f\"], [0.2222222222222222, \"#7201a8\"], [0.3333333333333333, \"#9c179e\"], [0.4444444444444444, \"#bd3786\"], [0.5555555555555556, \"#d8576b\"], [0.6666666666666666, \"#ed7953\"], [0.7777777777777778, \"#fb9f3a\"], [0.8888888888888888, \"#fdca26\"], [1.0, \"#f0f921\"]], \"type\": \"histogram2dcontour\"}], \"mesh3d\": [{\"colorbar\": {\"outlinewidth\": 0, \"ticks\": \"\"}, \"type\": \"mesh3d\"}], \"parcoords\": [{\"line\": {\"colorbar\": {\"outlinewidth\": 0, \"ticks\": \"\"}}, \"type\": \"parcoords\"}], \"pie\": [{\"automargin\": true, \"type\": \"pie\"}], \"scatter\": [{\"marker\": {\"colorbar\": {\"outlinewidth\": 0, \"ticks\": \"\"}}, \"type\": \"scatter\"}], \"scatter3d\": [{\"line\": {\"colorbar\": {\"outlinewidth\": 0, \"ticks\": \"\"}}, \"marker\": {\"colorbar\": {\"outlinewidth\": 0, \"ticks\": \"\"}}, \"type\": \"scatter3d\"}], \"scattercarpet\": [{\"marker\": {\"colorbar\": {\"outlinewidth\": 0, \"ticks\": \"\"}}, \"type\": \"scattercarpet\"}], \"scattergeo\": [{\"marker\": {\"colorbar\": {\"outlinewidth\": 0, \"ticks\": \"\"}}, \"type\": \"scattergeo\"}], \"scattergl\": [{\"marker\": {\"colorbar\": {\"outlinewidth\": 0, \"ticks\": \"\"}}, \"type\": \"scattergl\"}], \"scattermapbox\": [{\"marker\": {\"colorbar\": {\"outlinewidth\": 0, \"ticks\": \"\"}}, \"type\": \"scattermapbox\"}], \"scatterpolar\": [{\"marker\": {\"colorbar\": {\"outlinewidth\": 0, \"ticks\": \"\"}}, \"type\": \"scatterpolar\"}], \"scatterpolargl\": [{\"marker\": {\"colorbar\": {\"outlinewidth\": 0, \"ticks\": \"\"}}, \"type\": \"scatterpolargl\"}], \"scatterternary\": [{\"marker\": {\"colorbar\": {\"outlinewidth\": 0, \"ticks\": \"\"}}, \"type\": \"scatterternary\"}], \"surface\": [{\"colorbar\": {\"outlinewidth\": 0, \"ticks\": \"\"}, \"colorscale\": [[0.0, \"#0d0887\"], [0.1111111111111111, \"#46039f\"], [0.2222222222222222, \"#7201a8\"], [0.3333333333333333, \"#9c179e\"], [0.4444444444444444, \"#bd3786\"], [0.5555555555555556, \"#d8576b\"], [0.6666666666666666, \"#ed7953\"], [0.7777777777777778, \"#fb9f3a\"], [0.8888888888888888, \"#fdca26\"], [1.0, \"#f0f921\"]], \"type\": \"surface\"}], \"table\": [{\"cells\": {\"fill\": {\"color\": \"#EBF0F8\"}, \"line\": {\"color\": \"white\"}}, \"header\": {\"fill\": {\"color\": \"#C8D4E3\"}, \"line\": {\"color\": \"white\"}}, \"type\": \"table\"}]}, \"layout\": {\"annotationdefaults\": {\"arrowcolor\": \"#2a3f5f\", \"arrowhead\": 0, \"arrowwidth\": 1}, \"coloraxis\": {\"colorbar\": {\"outlinewidth\": 0, \"ticks\": \"\"}}, \"colorscale\": {\"diverging\": [[0, \"#8e0152\"], [0.1, \"#c51b7d\"], [0.2, \"#de77ae\"], [0.3, \"#f1b6da\"], [0.4, \"#fde0ef\"], [0.5, \"#f7f7f7\"], [0.6, \"#e6f5d0\"], [0.7, \"#b8e186\"], [0.8, \"#7fbc41\"], [0.9, \"#4d9221\"], [1, \"#276419\"]], \"sequential\": [[0.0, \"#0d0887\"], [0.1111111111111111, \"#46039f\"], [0.2222222222222222, \"#7201a8\"], [0.3333333333333333, \"#9c179e\"], [0.4444444444444444, \"#bd3786\"], [0.5555555555555556, \"#d8576b\"], [0.6666666666666666, \"#ed7953\"], [0.7777777777777778, \"#fb9f3a\"], [0.8888888888888888, \"#fdca26\"], [1.0, \"#f0f921\"]], \"sequentialminus\": [[0.0, \"#0d0887\"], [0.1111111111111111, \"#46039f\"], [0.2222222222222222, \"#7201a8\"], [0.3333333333333333, \"#9c179e\"], [0.4444444444444444, \"#bd3786\"], [0.5555555555555556, \"#d8576b\"], [0.6666666666666666, \"#ed7953\"], [0.7777777777777778, \"#fb9f3a\"], [0.8888888888888888, \"#fdca26\"], [1.0, \"#f0f921\"]]}, \"colorway\": [\"#636efa\", \"#EF553B\", \"#00cc96\", \"#ab63fa\", \"#FFA15A\", \"#19d3f3\", \"#FF6692\", \"#B6E880\", \"#FF97FF\", \"#FECB52\"], \"font\": {\"color\": \"#2a3f5f\"}, \"geo\": {\"bgcolor\": \"white\", \"lakecolor\": \"white\", \"landcolor\": \"#E5ECF6\", \"showlakes\": true, \"showland\": true, \"subunitcolor\": \"white\"}, \"hoverlabel\": {\"align\": \"left\"}, \"hovermode\": \"closest\", \"mapbox\": {\"style\": \"light\"}, \"paper_bgcolor\": \"white\", \"plot_bgcolor\": \"#E5ECF6\", \"polar\": {\"angularaxis\": {\"gridcolor\": \"white\", \"linecolor\": \"white\", \"ticks\": \"\"}, \"bgcolor\": \"#E5ECF6\", \"radialaxis\": {\"gridcolor\": \"white\", \"linecolor\": \"white\", \"ticks\": \"\"}}, \"scene\": {\"xaxis\": {\"backgroundcolor\": \"#E5ECF6\", \"gridcolor\": \"white\", \"gridwidth\": 2, \"linecolor\": \"white\", \"showbackground\": true, \"ticks\": \"\", \"zerolinecolor\": \"white\"}, \"yaxis\": {\"backgroundcolor\": \"#E5ECF6\", \"gridcolor\": \"white\", \"gridwidth\": 2, \"linecolor\": \"white\", \"showbackground\": true, \"ticks\": \"\", \"zerolinecolor\": \"white\"}, \"zaxis\": {\"backgroundcolor\": \"#E5ECF6\", \"gridcolor\": \"white\", \"gridwidth\": 2, \"linecolor\": \"white\", \"showbackground\": true, \"ticks\": \"\", \"zerolinecolor\": \"white\"}}, \"shapedefaults\": {\"line\": {\"color\": \"#2a3f5f\"}}, \"ternary\": {\"aaxis\": {\"gridcolor\": \"white\", \"linecolor\": \"white\", \"ticks\": \"\"}, \"baxis\": {\"gridcolor\": \"white\", \"linecolor\": \"white\", \"ticks\": \"\"}, \"bgcolor\": \"#E5ECF6\", \"caxis\": {\"gridcolor\": \"white\", \"linecolor\": \"white\", \"ticks\": \"\"}}, \"title\": {\"x\": 0.05}, \"xaxis\": {\"automargin\": true, \"gridcolor\": \"white\", \"linecolor\": \"white\", \"ticks\": \"\", \"title\": {\"standoff\": 15}, \"zerolinecolor\": \"white\", \"zerolinewidth\": 2}, \"yaxis\": {\"automargin\": true, \"gridcolor\": \"white\", \"linecolor\": \"white\", \"ticks\": \"\", \"title\": {\"standoff\": 15}, \"zerolinecolor\": \"white\", \"zerolinewidth\": 2}}}, \"xaxis\": {\"anchor\": \"y\", \"domain\": [0.0, 1.0], \"title\": {\"text\": \"Alliance\"}}, \"yaxis\": {\"anchor\": \"x\", \"domain\": [0.0, 1.0], \"title\": {\"text\": \"ID\"}}},\n",
              "                        {\"responsive\": true}\n",
              "                    ).then(function(){\n",
              "                            \n",
              "var gd = document.getElementById('af7d5f2d-09e9-4caf-9c5d-51750931a650');\n",
              "var x = new MutationObserver(function (mutations, observer) {{\n",
              "        var display = window.getComputedStyle(gd).display;\n",
              "        if (!display || display === 'none') {{\n",
              "            console.log([gd, 'removed!']);\n",
              "            Plotly.purge(gd);\n",
              "            observer.disconnect();\n",
              "        }}\n",
              "}});\n",
              "\n",
              "// Listen for the removal of the full notebook cells\n",
              "var notebookContainer = gd.closest('#notebook-container');\n",
              "if (notebookContainer) {{\n",
              "    x.observe(notebookContainer, {childList: true});\n",
              "}}\n",
              "\n",
              "// Listen for the clearing of the current output cell\n",
              "var outputEl = gd.closest('.output');\n",
              "if (outputEl) {{\n",
              "    x.observe(outputEl, {childList: true});\n",
              "}}\n",
              "\n",
              "                        })\n",
              "                };\n",
              "                \n",
              "            </script>\n",
              "        </div>\n",
              "</body>\n",
              "</html>"
            ]
          },
          "metadata": {}
        }
      ]
    },
    {
      "cell_type": "markdown",
      "source": [
        "# Which city has which camp WIP\n",
        "\n",
        "Very annoying to see people constantly ask which city has which camp for card draws. Trying this idea out for a single level 3 city. Will expand on this later. \n",
        "\n",
        "Only doing level 3 cities as its where HW goes\n",
        "\n",
        "After selecting a city click run. At the bottom it will show the card draw.\n",
        "\n",
        ":D"
      ],
      "metadata": {
        "id": "PFn7tjpTCAyb"
      }
    },
    {
      "cell_type": "code",
      "source": [
        "from datetime import date, timedelta\n",
        "#@title City Name?\n",
        "\n",
        "\n",
        "City = 'Atlanta' #@param ['Ankara', 'Atlanta', 'Birmingham' , 'Brussels','Cairo','Copenhagen','Detroit','Edinburgh','Geneva','Houston','Leningrad','Los Angeles','Madrid','Mexico City','Sao Pualo','Seattle,','Stalingrad','Washington']\n",
        "\n",
        "\n",
        "cityGroup1 = [\"Houston\", \"Atlanta\", \"Seattle\"] #Martyr on 2/3/22, Van on 2/4/22\n",
        "cityGroup2 = [\"Detroit\", \"Washington\", \"Edinburgh\"] #Liberty on 2/3/22, Mar on 2/4/22\n",
        "cityGroup3 = [] #Vanguard on 2/3/12\n",
        "\n",
        "#There are 3 possible pools\n",
        "\n",
        "useArray = cityGroup1 #default cityGroup to use\n",
        "\n",
        "if City in cityGroup2:\n",
        "  useArray=cityGroup2\n",
        "elif City in cityGroup3:\n",
        "  useArray=cityGroup3\n",
        "\n",
        "\n",
        "\n",
        "from datetime import date, timedelta\n",
        "\"\"\"\n",
        "This is just a quick not well thought out idea. Im just doing a quick approach \n",
        "to this as I do theseafter I finish my HW. Later may be subject to change\n",
        "\"\"\"\n",
        "\n",
        "def group1():\n",
        "  if x%3 == 0:\n",
        "    print(\"Liberty\")\n",
        "  elif x%3 ==1:\n",
        "    print(\"Martyr\")\n",
        "  elif x%3 ==2:\n",
        "    print(\"Vanguard\")\n",
        "\n",
        "\n",
        "\n",
        "def group2():\n",
        "  if x%3 == 1:\n",
        "    print(\"Liberty\")\n",
        "  elif x%3 ==2:\n",
        "    print(\"Martyr\")\n",
        "  elif x%3 ==0:\n",
        "    print(\"Vanguard\")\n",
        "\n",
        "\n",
        "\n",
        "def group3():\n",
        "  if x%3 == 2:\n",
        "    print(\"Liberty\")\n",
        "  elif x%3 ==0:\n",
        "    print(\"Martyr\")\n",
        "  elif x%3 ==1:\n",
        "    print(\"Vanguard\")\n",
        "\n",
        "\n",
        "today = date.today()\n",
        "past = date(2022,2,2)\n",
        "diff = today-past\n",
        "x = diff.days-1 #so that it isn't inclusive of current day\n",
        "\n",
        "print(\"Camp Drawing in {}:\".format(City))\n",
        "\n",
        "if useArray == cityGroup1:\n",
        "  group1()\n",
        "elif useArray == cityGroup2:\n",
        "  group2()\n",
        "elif useArray ==cityGroup3:\n",
        "  group3()\n",
        "\n"
      ],
      "metadata": {
        "id": "V03BtDBSmDoG"
      },
      "execution_count": null,
      "outputs": []
    },
    {
      "cell_type": "code",
      "source": [
        ""
      ],
      "metadata": {
        "id": "NowUfFc0Abgy"
      },
      "execution_count": null,
      "outputs": []
    },
    {
      "cell_type": "code",
      "source": [
        "\n",
        "\n"
      ],
      "metadata": {
        "id": "_pKUL-W18Qh_"
      },
      "execution_count": null,
      "outputs": []
    },
    {
      "cell_type": "markdown",
      "source": [
        ""
      ],
      "metadata": {
        "id": "AfCA5M4Y9MkL"
      }
    },
    {
      "cell_type": "markdown",
      "source": [
        ""
      ],
      "metadata": {
        "id": "lCZIdrMwpRTH"
      }
    }
  ]
}